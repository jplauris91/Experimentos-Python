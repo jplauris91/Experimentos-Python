{
 "cells": [
  {
   "cell_type": "markdown",
   "metadata": {},
   "source": [
    "# Creando Matrices con NumPy"
   ]
  },
  {
   "cell_type": "code",
   "execution_count": 52,
   "metadata": {},
   "outputs": [
    {
     "name": "stdout",
     "output_type": "stream",
     "text": [
      " Volume in drive C is Windows\n",
      " Volume Serial Number is 3C19-4769\n",
      "\n",
      " Directory of C:\\Users\\Administrator\n",
      "\n"
     ]
    },
    {
     "name": "stderr",
     "output_type": "stream",
     "text": [
      "File Not Found\n"
     ]
    }
   ],
   "source": [
    "ls \"C:/Users/Administrator/PracticaNumPy.ipynb\""
   ]
  },
  {
   "cell_type": "code",
   "execution_count": 4,
   "metadata": {},
   "outputs": [],
   "source": [
    "import numpy as np\n",
    "from scipy import sparse"
   ]
  },
  {
   "cell_type": "code",
   "execution_count": 5,
   "metadata": {},
   "outputs": [
    {
     "data": {
      "text/plain": [
       "array([1, 2, 3])"
      ]
     },
     "execution_count": 5,
     "metadata": {},
     "output_type": "execute_result"
    }
   ],
   "source": [
    "#Creando una fila\n",
    "vector_row = np.array([1, 2, 3])\n",
    "vector_row"
   ]
  },
  {
   "cell_type": "code",
   "execution_count": 6,
   "metadata": {},
   "outputs": [
    {
     "data": {
      "text/plain": [
       "array([[1],\n",
       "       [2],\n",
       "       [3]])"
      ]
     },
     "execution_count": 6,
     "metadata": {},
     "output_type": "execute_result"
    }
   ],
   "source": [
    "#Creando una columna\n",
    "vector_column = np.array([[1],[2],[3]])\n",
    "vector_column"
   ]
  },
  {
   "cell_type": "code",
   "execution_count": 7,
   "metadata": {},
   "outputs": [
    {
     "name": "stdout",
     "output_type": "stream",
     "text": [
      "[[2 4]\n",
      " [2 4]\n",
      " [2 4]]\n"
     ]
    }
   ],
   "source": [
    "#Creando una matriz\n",
    "matrix = np.array([[1,2],\n",
    "                  [1,2],\n",
    "                  [1,2]])\n",
    "\n",
    "matrix\n",
    "\n",
    "#Sino...\n",
    "OtraMatrix = np.mat([[1,2],\n",
    "                   [1,2],\n",
    "                   [1,2]])\n",
    "\n",
    "print(OtraMatrix + matrix)"
   ]
  },
  {
   "cell_type": "code",
   "execution_count": 8,
   "metadata": {},
   "outputs": [
    {
     "name": "stdout",
     "output_type": "stream",
     "text": [
      "  (1, 1)\t1\n",
      "  (2, 0)\t3\n",
      "  (1, 1)\t1\n",
      "  (2, 0)\t3\n"
     ]
    }
   ],
   "source": [
    "#Creando Matriz dispersa (sparse matrix)--> cuando la mayoría de los elementos son ceros. \n",
    "#Esto se usa para que no ocupe tanto espacio a nivel computacional\n",
    "\n",
    "matriz = np.array([[0,0],\n",
    "                   [0,1],\n",
    "                   [3,0]])\n",
    "matriz\n",
    "\n",
    "matriz_sparse = sparse.csr_matrix(matriz)\n",
    "\n",
    "print(matriz_sparse)\n",
    "\n",
    "# Create larger matrix\n",
    "matrix_large = np.array([[0, 0, 0, 0, 0, 0, 0, 0, 0, 0],\n",
    "                         [0, 1, 0, 0, 0, 0, 0, 0, 0, 0],\n",
    "                         [3, 0, 0, 0, 0, 0, 0, 0, 0, 0]])\n",
    "\n",
    "\n",
    "matrix_large_CSR = sparse.csr_matrix(matrix_large)\n",
    "\n",
    "print(matrix_large_CSR)\n",
    "\n",
    "#Como se puede apreciar, no importa si la cantidad de ceros es mayor, sino si se acumulan o no en memoria a nivel de bytes"
   ]
  },
  {
   "cell_type": "code",
   "execution_count": 9,
   "metadata": {},
   "outputs": [
    {
     "name": "stdout",
     "output_type": "stream",
     "text": [
      "3\n",
      "5\n",
      "[1 2 3 4 5 6]\n",
      "[1 2 3]\n",
      "[4 5 6]\n",
      "6\n",
      "[[1 2 3]\n",
      " [4 5 6]]\n",
      "[[2]\n",
      " [5]\n",
      " [8]]\n"
     ]
    }
   ],
   "source": [
    "#Seleccionando elementos de los vectores\n",
    "vector = np.array([1,2,3,4,5,6])\n",
    "\n",
    "Matrix = np.array([[1,2,3],\n",
    "                  [4,5,6],\n",
    "                  [7,8,9]])\n",
    "\n",
    "#Selecciono 3er valor\n",
    "print(vector[2])\n",
    "#Selecciono 2da fila, 2da columna\n",
    "print(Matrix[1,1])\n",
    "\n",
    "#Selecciono todos los elementos del vector\n",
    "print(vector[:])\n",
    "\n",
    "#Selecciono todo hasta el 3er elemento\n",
    "print(vector[:3])\n",
    "\n",
    "#Selecciono todo después del 3er elemento\n",
    "print(vector[3:])\n",
    "\n",
    "#Selecciono último elemento\n",
    "print(vector[-1])\n",
    "\n",
    "#Selecciono primeras dos filas y todas las columnas de la matriz\n",
    "print(Matrix[:2,:])\n",
    "\n",
    "#Selecciono toda las filas y la segunda columna\n",
    "print(Matrix[:,1:2])"
   ]
  },
  {
   "cell_type": "code",
   "execution_count": 10,
   "metadata": {},
   "outputs": [
    {
     "name": "stdout",
     "output_type": "stream",
     "text": [
      "(3, 4)\n",
      "12\n",
      "2\n"
     ]
    }
   ],
   "source": [
    "#Describiendo Matrices\n",
    "MatriX = np.array([[1,2,3,4],\n",
    "                  [5,6,7,8],\n",
    "                  [9,10,11,12]])\n",
    "\n",
    "#Dimensiones matrices, en este caso 3 filas y 4 columnas\n",
    "print(MatriX.shape)\n",
    "\n",
    "#Número de elementos dentro de la matriz (filas*columnas)\n",
    "print(MatriX.size)\n",
    "\n",
    "#Número de dimensiones de la matriz\n",
    "print(MatriX.ndim)"
   ]
  },
  {
   "cell_type": "code",
   "execution_count": 11,
   "metadata": {},
   "outputs": [
    {
     "name": "stdout",
     "output_type": "stream",
     "text": [
      "[[100 200 300]\n",
      " [400 500 600]\n",
      " [700 800 900]]\n",
      "[[ 2  3  4]\n",
      " [ 5  6  7]\n",
      " [ 8  9 10]]\n"
     ]
    }
   ],
   "source": [
    "#Operaciones con matrices\n",
    "Matrics = np.array([[1,2,3],\n",
    "                    [4,5,6],\n",
    "                    [7,8,9]])\n",
    "\n",
    "#Multiplico cada elemento *100\n",
    "print(Matrix*100)\n",
    "\n",
    "#Tmb puedo crear funciones vectorizadas que se aplican a cada elemento de la lista a modo de for loop\n",
    "\n",
    "add_1 = lambda i: i+1 #Creo función lambda para sumarle 1 a cada elemento de la matriz\n",
    "\n",
    "vectorized_add_1 = np.vectorize(add_1)\n",
    "\n",
    "print(add_1(Matrics))"
   ]
  },
  {
   "cell_type": "code",
   "execution_count": 12,
   "metadata": {},
   "outputs": [
    {
     "name": "stdout",
     "output_type": "stream",
     "text": [
      "1\n",
      "9\n",
      "5.0\n",
      "6.666666666666667\n",
      "2.581988897471611\n",
      "[4. 5. 6.]\n",
      "[2. 5. 8.]\n"
     ]
    }
   ],
   "source": [
    "#Min, Max, average, variance y std deviation\n",
    "\n",
    "Metriz = np.array([[1,2,3],\n",
    "                   [4,5,6],\n",
    "                   [7,8,9]])\n",
    "\n",
    "#Min\n",
    "print(np.min(Metriz))\n",
    "\n",
    "#Max\n",
    "print(np.max(Metriz))\n",
    "\n",
    "#Mean\n",
    "print(np.mean(Metriz))\n",
    "\n",
    "#Variance\n",
    "print(np.var(Metriz))\n",
    "\n",
    "#Std Deviation\n",
    "print(np.std(Metriz))\n",
    "\n",
    "#Tmb puedo aplicarlo a nivel fila o columna\n",
    "\n",
    "print(np.mean(Metriz,axis=0)) #a nivel columna\n",
    "print(np.mean(Metriz,axis=1)) #a nivel fila"
   ]
  },
  {
   "cell_type": "code",
   "execution_count": 13,
   "metadata": {},
   "outputs": [
    {
     "name": "stdout",
     "output_type": "stream",
     "text": [
      "[[ 1  2  3  4  5  6]\n",
      " [ 7  8  9 10 11 12]]\n",
      "[[ 1  2  3  4]\n",
      " [ 5  6  7  8]\n",
      " [ 9 10 11 12]]\n",
      "[ 1  2  3  4  5  6  7  8  9 10 11 12]\n"
     ]
    }
   ],
   "source": [
    "#Reconvertir la forma de las matrices\n",
    "Matrixx = np.array([[1,2,3],\n",
    "                    [4,5,6],\n",
    "                    [7,8,9],\n",
    "                    [10,11,12]])\n",
    "\n",
    "#Reconvierto Matrixx en 2x6 en vez de 4x3\n",
    "print(Matrixx.reshape(2,6))\n",
    "\n",
    "#Si queremos decirle \"las columnas que sean necesarias\" usamos el -1\n",
    "print(Matrixx.reshape(3,-1))\n",
    "\n",
    "#Si sólo usamos pasamos unn int como argumento, se creará un array de 1 dimensión con los elementos de la matriz\n",
    "\n",
    "print(Matrixx.reshape(12))"
   ]
  },
  {
   "cell_type": "code",
   "execution_count": 17,
   "metadata": {},
   "outputs": [
    {
     "name": "stdout",
     "output_type": "stream",
     "text": [
      "[[1 4 7]\n",
      " [2 5 8]\n",
      " [3 6 9]]\n",
      "[1 2 3 4 5 6 7 8 9]\n"
     ]
    }
   ],
   "source": [
    "#Trasponer la matriz\n",
    "print(Metriz.T)\n",
    "\n",
    "#Hacer la matriz de un solo array/vector\n",
    "print(Metriz.flatten())"
   ]
  },
  {
   "cell_type": "code",
   "execution_count": 18,
   "metadata": {},
   "outputs": [
    {
     "name": "stdout",
     "output_type": "stream",
     "text": [
      "2\n"
     ]
    }
   ],
   "source": [
    "#Rango de una matriz\n",
    "Matrixxx = np.array([[1,1,1],\n",
    "                    [1,1,10],\n",
    "                    [1,1,15]])\n",
    "\n",
    "print(np.linalg.matrix_rank(Matrixxx))\n"
   ]
  },
  {
   "cell_type": "code",
   "execution_count": 21,
   "metadata": {},
   "outputs": [
    {
     "name": "stdout",
     "output_type": "stream",
     "text": [
      "-9.51619735392994e-16\n",
      "[1 5 9]\n",
      "15\n"
     ]
    }
   ],
   "source": [
    "#Calcular determinante de la matriz\n",
    "print(np.linalg.det(Metriz))\n",
    "\n",
    "#Calcular diagonal de la matriz\n",
    "print(np.diagonal(Metriz))\n",
    "\n",
    "#Traza de la matriz\n",
    "print(Metriz.trace())"
   ]
  },
  {
   "cell_type": "code",
   "execution_count": 26,
   "metadata": {},
   "outputs": [
    {
     "name": "stdout",
     "output_type": "stream",
     "text": [
      "[13.55075847  0.74003145 -3.29078992]\n",
      "[[-0.17622017 -0.96677403 -0.53373322]\n",
      " [-0.435951    0.2053623  -0.64324848]\n",
      " [-0.88254925  0.15223105  0.54896288]]\n"
     ]
    }
   ],
   "source": [
    "#Calcular Eigenvalues matriz cuadrada\n",
    "Matrixxxx = np.array([[1,-1,3],\n",
    "                    [1,1,6],\n",
    "                    [3,8,9]])\n",
    "\n",
    "eigenvalues, eigenvectors = np.linalg.eig(Matrixxxx)\n",
    "\n",
    "print(eigenvalues)\n",
    "\n",
    "print(eigenvectors)"
   ]
  },
  {
   "cell_type": "code",
   "execution_count": 31,
   "metadata": {},
   "outputs": [
    {
     "name": "stdout",
     "output_type": "stream",
     "text": [
      "32\n",
      "[[ 2  4  2]\n",
      " [ 2  4  2]\n",
      " [ 2  4 10]]\n",
      "[[ 0 -2  0]\n",
      " [ 0 -2  0]\n",
      " [ 0 -2 -6]]\n",
      "[[ 1  3  1]\n",
      " [ 1  3  1]\n",
      " [ 1  3 16]]\n"
     ]
    }
   ],
   "source": [
    "#Operaciones\n",
    "\n",
    "#Multiplicación de vectores\n",
    "vectorr = np.array([1,2,3])\n",
    "\n",
    "vectorrr = np.array([4,5,6])\n",
    "\n",
    "print(np.dot(vectorr,vectorrr))\n",
    "\n",
    "#Suma de matrices\n",
    "matrix_a = np.array([[1, 1, 1],\n",
    "                     [1, 1, 1],\n",
    "                     [1, 1, 2]])\n",
    "\n",
    "matrix_b = np.array([[1, 3, 1],\n",
    "                     [1, 3, 1],\n",
    "                     [1, 3, 8]])\n",
    "\n",
    "print(matrix_a + matrix_b)\n",
    "\n",
    "#Resta\n",
    "print(matrix_a - matrix_b)\n",
    "\n",
    "#Multiplicación\n",
    "print(matrix_a*matrix_b)"
   ]
  },
  {
   "cell_type": "code",
   "execution_count": 37,
   "metadata": {},
   "outputs": [
    {
     "name": "stdout",
     "output_type": "stream",
     "text": [
      "[[ 3.15251974e+15 -6.30503948e+15  3.15251974e+15]\n",
      " [-6.30503948e+15  1.26100790e+16 -6.30503948e+15]\n",
      " [ 3.15251974e+15 -6.30503948e+15  3.15251974e+15]]\n"
     ]
    }
   ],
   "source": [
    "#Matriz inversa\n",
    "print(np.linalg.inv(Metriz))"
   ]
  },
  {
   "cell_type": "code",
   "execution_count": 59,
   "metadata": {},
   "outputs": [
    {
     "name": "stdout",
     "output_type": "stream",
     "text": [
      "[0.5488135  0.71518937 0.60276338]\n",
      "[3 7 9]\n"
     ]
    }
   ],
   "source": [
    "#Crear elementos random entre 0 y 1. El seed sirve para salvar los mismos números random. \n",
    "np.random.seed(0)\n",
    "\n",
    "print(np.random.random(3))\n",
    "\n",
    "#Tmb puedo generar números enteros\n",
    "\n",
    "print(np.random.randint(0,11,3))\n",
    "\n"
   ]
  },
  {
   "cell_type": "code",
   "execution_count": null,
   "metadata": {},
   "outputs": [],
   "source": []
  }
 ],
 "metadata": {
  "kernelspec": {
   "display_name": "Python 3",
   "language": "python",
   "name": "python3"
  },
  "language_info": {
   "codemirror_mode": {
    "name": "ipython",
    "version": 3
   },
   "file_extension": ".py",
   "mimetype": "text/x-python",
   "name": "python",
   "nbconvert_exporter": "python",
   "pygments_lexer": "ipython3",
   "version": "3.8.5"
  }
 },
 "nbformat": 4,
 "nbformat_minor": 4
}
